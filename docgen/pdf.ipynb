{
 "cells": [
  {
   "cell_type": "code",
   "execution_count": 2,
   "outputs": [],
   "source": [
    "import os\n",
    "import argparse\n",
    "from PyPDF2 import PdfFileReader, PdfFileWriter\n",
    "from PyPDF2.generic import DecodedStreamObject, EncodedStreamObject"
   ],
   "metadata": {
    "collapsed": false,
    "pycharm": {
     "name": "#%%\n"
    }
   }
  },
  {
   "cell_type": "code",
   "execution_count": 3,
   "outputs": [],
   "source": [
    "def replace_text(content, replacements = dict()):\n",
    "    lines = content.splitlines()\n",
    "\n",
    "    result = \"\"\n",
    "    in_text = False\n",
    "\n",
    "    for line in lines:\n",
    "        if line == \"BT\":\n",
    "            in_text = True\n",
    "\n",
    "        elif line == \"ET\":\n",
    "            in_text = False\n",
    "\n",
    "        elif in_text:\n",
    "            cmd = line[-2:]\n",
    "            if cmd.lower() == 'tj':\n",
    "                replaced_line = line\n",
    "                for k, v in replacements.items():\n",
    "                    replaced_line = replaced_line.replace(k, v)\n",
    "                result += replaced_line + \"\\n\"\n",
    "            else:\n",
    "                result += line + \"\\n\"\n",
    "            continue\n",
    "\n",
    "        result += line + \"\\n\"\n",
    "\n",
    "    return result\n"
   ],
   "metadata": {
    "collapsed": false,
    "pycharm": {
     "name": "#%%\n"
    }
   }
  },
  {
   "cell_type": "code",
   "execution_count": 4,
   "outputs": [],
   "source": [
    "def process_data(object, replacements):\n",
    "    data = object.getData()\n",
    "    decoded_data = data.decode('utf-8')\n",
    "\n",
    "    replaced_data = replace_text(decoded_data, replacements)\n",
    "\n",
    "    encoded_data = replaced_data.encode('utf-8')\n",
    "    if object.decodedSelf is not None:\n",
    "        object.decodedSelf.setData(encoded_data)\n",
    "    else:\n",
    "        object.setData(encoded_data)\n"
   ],
   "metadata": {
    "collapsed": false,
    "pycharm": {
     "name": "#%%\n"
    }
   }
  },
  {
   "cell_type": "code",
   "execution_count": 5,
   "outputs": [
    {
     "ename": "AttributeError",
     "evalue": "'EncodedStreamObject' object has no attribute 'getData'",
     "output_type": "error",
     "traceback": [
      "\u001B[1;31m---------------------------------------------------------------------------\u001B[0m",
      "\u001B[1;31mAttributeError\u001B[0m                            Traceback (most recent call last)",
      "Input \u001B[1;32mIn [5]\u001B[0m, in \u001B[0;36m<cell line: 10>\u001B[1;34m()\u001B[0m\n\u001B[0;32m     13\u001B[0m contents \u001B[38;5;241m=\u001B[39m page\u001B[38;5;241m.\u001B[39mgetContents()\n\u001B[0;32m     15\u001B[0m \u001B[38;5;28;01mif\u001B[39;00m \u001B[38;5;28misinstance\u001B[39m(contents, DecodedStreamObject) \u001B[38;5;129;01mor\u001B[39;00m \u001B[38;5;28misinstance\u001B[39m(contents, EncodedStreamObject):\n\u001B[1;32m---> 16\u001B[0m     \u001B[43mprocess_data\u001B[49m\u001B[43m(\u001B[49m\u001B[43mcontents\u001B[49m\u001B[43m,\u001B[49m\u001B[43m \u001B[49m\u001B[43mreplacements\u001B[49m\u001B[43m)\u001B[49m\n\u001B[0;32m     17\u001B[0m \u001B[38;5;28;01melif\u001B[39;00m \u001B[38;5;28mlen\u001B[39m(contents) \u001B[38;5;241m>\u001B[39m \u001B[38;5;241m0\u001B[39m:\n\u001B[0;32m     18\u001B[0m     \u001B[38;5;28;01mfor\u001B[39;00m obj \u001B[38;5;129;01min\u001B[39;00m contents:\n",
      "Input \u001B[1;32mIn [4]\u001B[0m, in \u001B[0;36mprocess_data\u001B[1;34m(object, replacements)\u001B[0m\n\u001B[0;32m      1\u001B[0m \u001B[38;5;28;01mdef\u001B[39;00m \u001B[38;5;21mprocess_data\u001B[39m(\u001B[38;5;28mobject\u001B[39m, replacements):\n\u001B[1;32m----> 2\u001B[0m     data \u001B[38;5;241m=\u001B[39m \u001B[38;5;28;43mobject\u001B[39;49m\u001B[38;5;241;43m.\u001B[39;49m\u001B[43mgetData\u001B[49m()\n\u001B[0;32m      3\u001B[0m     decoded_data \u001B[38;5;241m=\u001B[39m data\u001B[38;5;241m.\u001B[39mdecode(\u001B[38;5;124m'\u001B[39m\u001B[38;5;124mutf-8\u001B[39m\u001B[38;5;124m'\u001B[39m)\n\u001B[0;32m      5\u001B[0m     replaced_data \u001B[38;5;241m=\u001B[39m replace_text(decoded_data, replacements)\n",
      "\u001B[1;31mAttributeError\u001B[0m: 'EncodedStreamObject' object has no attribute 'getData'"
     ]
    }
   ],
   "source": [
    "in_file=r\"C:\\Users\\tarchibald\\github\\docx_localization\\temp\\french_census_0064\\french_census_0000.pdf\"\n",
    "filename_base = in_file.replace(os.path.splitext(in_file)[1], \"\")\n",
    "\n",
    "# Provide replacements list that you need here\n",
    "replacements = { 'PDF': 'DOC'}\n",
    "\n",
    "pdf = PdfFileReader(in_file)\n",
    "writer = PdfFileWriter()\n",
    "\n",
    "for page_number in range(0, pdf.getNumPages()):\n",
    "\n",
    "    page = pdf.getPage(page_number)\n",
    "    contents = page.getContents()\n",
    "\n",
    "    if isinstance(contents, DecodedStreamObject) or isinstance(contents, EncodedStreamObject):\n",
    "        process_data(contents, replacements)\n",
    "    elif len(contents) > 0:\n",
    "        for obj in contents:\n",
    "            if isinstance(obj, DecodedStreamObject) or isinstance(obj, EncodedStreamObject):\n",
    "                streamObj = obj.getObject()\n",
    "                process_data(streamObj, replacements)\n",
    "\n",
    "    writer.addPage(page)"
   ],
   "metadata": {
    "collapsed": false,
    "pycharm": {
     "name": "#%%\n"
    }
   }
  },
  {
   "cell_type": "code",
   "execution_count": null,
   "outputs": [],
   "source": [],
   "metadata": {
    "collapsed": false,
    "pycharm": {
     "name": "#%%\n"
    }
   }
  },
  {
   "cell_type": "code",
   "execution_count": null,
   "outputs": [],
   "source": [],
   "metadata": {
    "collapsed": false,
    "pycharm": {
     "name": "#%%\n"
    }
   }
  }
 ],
 "metadata": {
  "kernelspec": {
   "display_name": "Python 3",
   "language": "python",
   "name": "python3"
  },
  "language_info": {
   "codemirror_mode": {
    "name": "ipython",
    "version": 2
   },
   "file_extension": ".py",
   "mimetype": "text/x-python",
   "name": "python",
   "nbconvert_exporter": "python",
   "pygments_lexer": "ipython2",
   "version": "2.7.6"
  }
 },
 "nbformat": 4,
 "nbformat_minor": 0
}